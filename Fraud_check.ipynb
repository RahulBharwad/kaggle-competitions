{
 "cells": [
  {
   "cell_type": "markdown",
   "id": "30427f5e",
   "metadata": {},
   "source": [
    "# Importing Important Libraries"
   ]
  },
  {
   "cell_type": "code",
   "execution_count": 1,
   "id": "9ba22f48",
   "metadata": {},
   "outputs": [],
   "source": [
    "import numpy as np\n",
    "import pandas as pd\n",
    "from sklearn.model_selection import train_test_split\n",
    "from sklearn.tree import DecisionTreeClassifier as RF\n",
    "import matplotlib.pyplot as plt \n",
    "import seaborn as sns\n",
    "import plotly.express as px"
   ]
  },
  {
   "cell_type": "markdown",
   "id": "301dd98e",
   "metadata": {},
   "source": [
    "# Reading and Understanding the Data"
   ]
  },
  {
   "cell_type": "code",
   "execution_count": 2,
   "id": "a7a867d8",
   "metadata": {},
   "outputs": [],
   "source": [
    "#Reading The csv data file using pandas\n",
    "df=pd.read_csv(\"Fraud_check.csv\")"
   ]
  },
  {
   "cell_type": "code",
   "execution_count": 3,
   "id": "07831d94",
   "metadata": {},
   "outputs": [
    {
     "data": {
      "text/html": [
       "<div>\n",
       "<style scoped>\n",
       "    .dataframe tbody tr th:only-of-type {\n",
       "        vertical-align: middle;\n",
       "    }\n",
       "\n",
       "    .dataframe tbody tr th {\n",
       "        vertical-align: top;\n",
       "    }\n",
       "\n",
       "    .dataframe thead th {\n",
       "        text-align: right;\n",
       "    }\n",
       "</style>\n",
       "<table border=\"1\" class=\"dataframe\">\n",
       "  <thead>\n",
       "    <tr style=\"text-align: right;\">\n",
       "      <th></th>\n",
       "      <th>Undergrad</th>\n",
       "      <th>Marital.Status</th>\n",
       "      <th>Taxable.Income</th>\n",
       "      <th>City.Population</th>\n",
       "      <th>Work.Experience</th>\n",
       "      <th>Urban</th>\n",
       "    </tr>\n",
       "  </thead>\n",
       "  <tbody>\n",
       "    <tr>\n",
       "      <th>0</th>\n",
       "      <td>NO</td>\n",
       "      <td>Single</td>\n",
       "      <td>68833</td>\n",
       "      <td>50047</td>\n",
       "      <td>10</td>\n",
       "      <td>YES</td>\n",
       "    </tr>\n",
       "    <tr>\n",
       "      <th>1</th>\n",
       "      <td>YES</td>\n",
       "      <td>Divorced</td>\n",
       "      <td>33700</td>\n",
       "      <td>134075</td>\n",
       "      <td>18</td>\n",
       "      <td>YES</td>\n",
       "    </tr>\n",
       "    <tr>\n",
       "      <th>2</th>\n",
       "      <td>NO</td>\n",
       "      <td>Married</td>\n",
       "      <td>36925</td>\n",
       "      <td>160205</td>\n",
       "      <td>30</td>\n",
       "      <td>YES</td>\n",
       "    </tr>\n",
       "    <tr>\n",
       "      <th>3</th>\n",
       "      <td>YES</td>\n",
       "      <td>Single</td>\n",
       "      <td>50190</td>\n",
       "      <td>193264</td>\n",
       "      <td>15</td>\n",
       "      <td>YES</td>\n",
       "    </tr>\n",
       "    <tr>\n",
       "      <th>4</th>\n",
       "      <td>NO</td>\n",
       "      <td>Married</td>\n",
       "      <td>81002</td>\n",
       "      <td>27533</td>\n",
       "      <td>28</td>\n",
       "      <td>NO</td>\n",
       "    </tr>\n",
       "  </tbody>\n",
       "</table>\n",
       "</div>"
      ],
      "text/plain": [
       "  Undergrad Marital.Status  Taxable.Income  City.Population  Work.Experience  \\\n",
       "0        NO         Single           68833            50047               10   \n",
       "1       YES       Divorced           33700           134075               18   \n",
       "2        NO        Married           36925           160205               30   \n",
       "3       YES         Single           50190           193264               15   \n",
       "4        NO        Married           81002            27533               28   \n",
       "\n",
       "  Urban  \n",
       "0   YES  \n",
       "1   YES  \n",
       "2   YES  \n",
       "3   YES  \n",
       "4    NO  "
      ]
     },
     "execution_count": 3,
     "metadata": {},
     "output_type": "execute_result"
    }
   ],
   "source": [
    "#Top 5 data\n",
    "df.head()"
   ]
  },
  {
   "cell_type": "code",
   "execution_count": 4,
   "id": "4eab4915",
   "metadata": {},
   "outputs": [
    {
     "data": {
      "text/plain": [
       "(600, 6)"
      ]
     },
     "execution_count": 4,
     "metadata": {},
     "output_type": "execute_result"
    }
   ],
   "source": [
    "#Number of rows & columns in data.\n",
    "df.shape"
   ]
  },
  {
   "cell_type": "markdown",
   "id": "40d0686a",
   "metadata": {},
   "source": [
    "# Data Description :-\n",
    "\n",
    "Undergrad : person is under graduated or not.\n",
    "\n",
    "Marital.Status : marital status of a person.\n",
    "\n",
    "Taxable.Income : Taxable income is the amount of how much tax an individual owes to the government .\n",
    "\n",
    "Work Experience : Work experience of an individual person.\n",
    "\n",
    "Urban : Whether that person belongs to urban area or not."
   ]
  },
  {
   "cell_type": "markdown",
   "id": "e5224554",
   "metadata": {},
   "source": [
    "# Thorough Information Of data"
   ]
  },
  {
   "cell_type": "code",
   "execution_count": 5,
   "id": "ca6a4b33",
   "metadata": {},
   "outputs": [
    {
     "name": "stdout",
     "output_type": "stream",
     "text": [
      "<class 'pandas.core.frame.DataFrame'>\n",
      "RangeIndex: 600 entries, 0 to 599\n",
      "Data columns (total 6 columns):\n",
      " #   Column           Non-Null Count  Dtype \n",
      "---  ------           --------------  ----- \n",
      " 0   Undergrad        600 non-null    object\n",
      " 1   Marital.Status   600 non-null    object\n",
      " 2   Taxable.Income   600 non-null    int64 \n",
      " 3   City.Population  600 non-null    int64 \n",
      " 4   Work.Experience  600 non-null    int64 \n",
      " 5   Urban            600 non-null    object\n",
      "dtypes: int64(3), object(3)\n",
      "memory usage: 28.2+ KB\n"
     ]
    }
   ],
   "source": [
    "df.info()"
   ]
  },
  {
   "cell_type": "markdown",
   "id": "b3d56cbc",
   "metadata": {},
   "source": [
    "# Observation:-\n",
    "1)Undergrad,Marital.Satatus & Urban this 3 variables is of Object type, we have to convert it in numeric.\n",
    "\n",
    "2)All the other variables is numeric.\n",
    "\n",
    "3)All variable has total 600 entries , so we can say there is no null/missing values present in data, we will again check for it by boxplot."
   ]
  },
  {
   "cell_type": "code",
   "execution_count": 6,
   "id": "d3e1eccc",
   "metadata": {},
   "outputs": [
    {
     "data": {
      "text/plain": [
       "YES    312\n",
       "NO     288\n",
       "Name: Undergrad, dtype: int64"
      ]
     },
     "execution_count": 6,
     "metadata": {},
     "output_type": "execute_result"
    }
   ],
   "source": [
    "df['Undergrad'].value_counts()"
   ]
  },
  {
   "cell_type": "code",
   "execution_count": 7,
   "id": "c76913b9",
   "metadata": {},
   "outputs": [
    {
     "data": {
      "text/plain": [
       "Single      217\n",
       "Married     194\n",
       "Divorced    189\n",
       "Name: Marital.Status, dtype: int64"
      ]
     },
     "execution_count": 7,
     "metadata": {},
     "output_type": "execute_result"
    }
   ],
   "source": [
    "df['Marital.Status'].value_counts()"
   ]
  },
  {
   "cell_type": "code",
   "execution_count": 8,
   "id": "3db7b350",
   "metadata": {},
   "outputs": [
    {
     "data": {
      "text/plain": [
       "YES    302\n",
       "NO     298\n",
       "Name: Urban, dtype: int64"
      ]
     },
     "execution_count": 8,
     "metadata": {},
     "output_type": "execute_result"
    }
   ],
   "source": [
    "df['Urban'].value_counts()"
   ]
  },
  {
   "cell_type": "markdown",
   "id": "3a9b6e92",
   "metadata": {},
   "source": [
    "# Observation:-\n",
    "1) Urban and Undergrad variable is contains only 2 uniques in it, we will use LabelEncoder to convert in numeric.\n",
    "\n",
    "2) Marital.Status contains 3 unique values in it, will use One Hot Encoding to convert it on numeric type."
   ]
  },
  {
   "cell_type": "code",
   "execution_count": 9,
   "id": "e38837cf",
   "metadata": {},
   "outputs": [],
   "source": [
    "from sklearn.preprocessing import LabelEncoder as LE\n"
   ]
  },
  {
   "cell_type": "code",
   "execution_count": 10,
   "id": "63e21e12",
   "metadata": {},
   "outputs": [],
   "source": [
    "df=pd.get_dummies(df,columns=['Marital.Status'])"
   ]
  },
  {
   "cell_type": "code",
   "execution_count": 11,
   "id": "4892ec64",
   "metadata": {},
   "outputs": [
    {
     "data": {
      "text/html": [
       "<div>\n",
       "<style scoped>\n",
       "    .dataframe tbody tr th:only-of-type {\n",
       "        vertical-align: middle;\n",
       "    }\n",
       "\n",
       "    .dataframe tbody tr th {\n",
       "        vertical-align: top;\n",
       "    }\n",
       "\n",
       "    .dataframe thead th {\n",
       "        text-align: right;\n",
       "    }\n",
       "</style>\n",
       "<table border=\"1\" class=\"dataframe\">\n",
       "  <thead>\n",
       "    <tr style=\"text-align: right;\">\n",
       "      <th></th>\n",
       "      <th>Undergrad</th>\n",
       "      <th>Taxable.Income</th>\n",
       "      <th>City.Population</th>\n",
       "      <th>Work.Experience</th>\n",
       "      <th>Urban</th>\n",
       "      <th>Marital.Status_Divorced</th>\n",
       "      <th>Marital.Status_Married</th>\n",
       "      <th>Marital.Status_Single</th>\n",
       "    </tr>\n",
       "  </thead>\n",
       "  <tbody>\n",
       "    <tr>\n",
       "      <th>0</th>\n",
       "      <td>NO</td>\n",
       "      <td>68833</td>\n",
       "      <td>50047</td>\n",
       "      <td>10</td>\n",
       "      <td>YES</td>\n",
       "      <td>0</td>\n",
       "      <td>0</td>\n",
       "      <td>1</td>\n",
       "    </tr>\n",
       "    <tr>\n",
       "      <th>1</th>\n",
       "      <td>YES</td>\n",
       "      <td>33700</td>\n",
       "      <td>134075</td>\n",
       "      <td>18</td>\n",
       "      <td>YES</td>\n",
       "      <td>1</td>\n",
       "      <td>0</td>\n",
       "      <td>0</td>\n",
       "    </tr>\n",
       "    <tr>\n",
       "      <th>2</th>\n",
       "      <td>NO</td>\n",
       "      <td>36925</td>\n",
       "      <td>160205</td>\n",
       "      <td>30</td>\n",
       "      <td>YES</td>\n",
       "      <td>0</td>\n",
       "      <td>1</td>\n",
       "      <td>0</td>\n",
       "    </tr>\n",
       "    <tr>\n",
       "      <th>3</th>\n",
       "      <td>YES</td>\n",
       "      <td>50190</td>\n",
       "      <td>193264</td>\n",
       "      <td>15</td>\n",
       "      <td>YES</td>\n",
       "      <td>0</td>\n",
       "      <td>0</td>\n",
       "      <td>1</td>\n",
       "    </tr>\n",
       "    <tr>\n",
       "      <th>4</th>\n",
       "      <td>NO</td>\n",
       "      <td>81002</td>\n",
       "      <td>27533</td>\n",
       "      <td>28</td>\n",
       "      <td>NO</td>\n",
       "      <td>0</td>\n",
       "      <td>1</td>\n",
       "      <td>0</td>\n",
       "    </tr>\n",
       "  </tbody>\n",
       "</table>\n",
       "</div>"
      ],
      "text/plain": [
       "  Undergrad  Taxable.Income  City.Population  Work.Experience Urban  \\\n",
       "0        NO           68833            50047               10   YES   \n",
       "1       YES           33700           134075               18   YES   \n",
       "2        NO           36925           160205               30   YES   \n",
       "3       YES           50190           193264               15   YES   \n",
       "4        NO           81002            27533               28    NO   \n",
       "\n",
       "   Marital.Status_Divorced  Marital.Status_Married  Marital.Status_Single  \n",
       "0                        0                       0                      1  \n",
       "1                        1                       0                      0  \n",
       "2                        0                       1                      0  \n",
       "3                        0                       0                      1  \n",
       "4                        0                       1                      0  "
      ]
     },
     "execution_count": 11,
     "metadata": {},
     "output_type": "execute_result"
    }
   ],
   "source": [
    "df.head()"
   ]
  },
  {
   "cell_type": "code",
   "execution_count": 12,
   "id": "532b57b0",
   "metadata": {},
   "outputs": [],
   "source": [
    "le=LE()"
   ]
  },
  {
   "cell_type": "code",
   "execution_count": 13,
   "id": "bcd47534",
   "metadata": {},
   "outputs": [],
   "source": [
    "df['Urban']=le.fit_transform(df['Urban'])"
   ]
  },
  {
   "cell_type": "code",
   "execution_count": 14,
   "id": "0d7157c3",
   "metadata": {},
   "outputs": [
    {
     "data": {
      "text/plain": [
       "1    302\n",
       "0    298\n",
       "Name: Urban, dtype: int64"
      ]
     },
     "execution_count": 14,
     "metadata": {},
     "output_type": "execute_result"
    }
   ],
   "source": [
    "df['Urban'].value_counts()"
   ]
  },
  {
   "cell_type": "code",
   "execution_count": 15,
   "id": "4aa0ec39",
   "metadata": {},
   "outputs": [],
   "source": [
    "df['Undergrad']=le.fit_transform(df['Undergrad'])"
   ]
  },
  {
   "cell_type": "code",
   "execution_count": 16,
   "id": "fa5f566f",
   "metadata": {
    "scrolled": false
   },
   "outputs": [
    {
     "data": {
      "text/plain": [
       "1    312\n",
       "0    288\n",
       "Name: Undergrad, dtype: int64"
      ]
     },
     "execution_count": 16,
     "metadata": {},
     "output_type": "execute_result"
    }
   ],
   "source": [
    "df['Undergrad'].value_counts()"
   ]
  },
  {
   "cell_type": "markdown",
   "id": "4d82be91",
   "metadata": {},
   "source": [
    "1) Urban columns value YES replaced as 1 & NO replaced as 0.\n",
    "\n",
    "2) Undergrad columns value YES replaced as 1 & NO as 0.\n",
    "\n",
    "3) Marital.Status:- creadted 3 saperate columns of all 3 unique values."
   ]
  },
  {
   "cell_type": "code",
   "execution_count": 17,
   "id": "a4adcd84",
   "metadata": {
    "scrolled": false
   },
   "outputs": [
    {
     "name": "stdout",
     "output_type": "stream",
     "text": [
      "<class 'pandas.core.frame.DataFrame'>\n",
      "RangeIndex: 600 entries, 0 to 599\n",
      "Data columns (total 8 columns):\n",
      " #   Column                   Non-Null Count  Dtype\n",
      "---  ------                   --------------  -----\n",
      " 0   Undergrad                600 non-null    int32\n",
      " 1   Taxable.Income           600 non-null    int64\n",
      " 2   City.Population          600 non-null    int64\n",
      " 3   Work.Experience          600 non-null    int64\n",
      " 4   Urban                    600 non-null    int32\n",
      " 5   Marital.Status_Divorced  600 non-null    uint8\n",
      " 6   Marital.Status_Married   600 non-null    uint8\n",
      " 7   Marital.Status_Single    600 non-null    uint8\n",
      "dtypes: int32(2), int64(3), uint8(3)\n",
      "memory usage: 20.6 KB\n"
     ]
    }
   ],
   "source": [
    "df.info()"
   ]
  },
  {
   "cell_type": "code",
   "execution_count": 18,
   "id": "f85aaa50",
   "metadata": {},
   "outputs": [
    {
     "data": {
      "text/plain": [
       "<bound method IndexOpsMixin.value_counts of 0      68833\n",
       "1      33700\n",
       "2      36925\n",
       "3      50190\n",
       "4      81002\n",
       "       ...  \n",
       "595    76340\n",
       "596    69967\n",
       "597    47334\n",
       "598    98592\n",
       "599    96519\n",
       "Name: Taxable.Income, Length: 600, dtype: int64>"
      ]
     },
     "execution_count": 18,
     "metadata": {},
     "output_type": "execute_result"
    }
   ],
   "source": [
    "df['Taxable.Income'].value_counts"
   ]
  },
  {
   "cell_type": "markdown",
   "id": "4291cb3e",
   "metadata": {},
   "source": [
    "# treating those who have taxable_income <= 30000 as \"Risky\"as (0) and others are \"Good\"(1)"
   ]
  },
  {
   "cell_type": "code",
   "execution_count": 19,
   "id": "892e31cc",
   "metadata": {},
   "outputs": [
    {
     "data": {
      "text/plain": [
       "0    68833\n",
       "1    33700\n",
       "2    36925\n",
       "3    50190\n",
       "4    81002\n",
       "Name: Taxable.Income, dtype: int64"
      ]
     },
     "execution_count": 19,
     "metadata": {},
     "output_type": "execute_result"
    }
   ],
   "source": [
    "df['Taxable.Income'].head()"
   ]
  },
  {
   "cell_type": "code",
   "execution_count": 20,
   "id": "888a2e95",
   "metadata": {},
   "outputs": [],
   "source": [
    "df['Taxable_Income']=np.where(df['Taxable.Income']<= 30000,0,\n",
    "        np.where(df['Taxable.Income']>30000,1,df['Taxable.Income']))"
   ]
  },
  {
   "cell_type": "code",
   "execution_count": 21,
   "id": "0636b74c",
   "metadata": {
    "scrolled": false
   },
   "outputs": [
    {
     "data": {
      "text/html": [
       "<div>\n",
       "<style scoped>\n",
       "    .dataframe tbody tr th:only-of-type {\n",
       "        vertical-align: middle;\n",
       "    }\n",
       "\n",
       "    .dataframe tbody tr th {\n",
       "        vertical-align: top;\n",
       "    }\n",
       "\n",
       "    .dataframe thead th {\n",
       "        text-align: right;\n",
       "    }\n",
       "</style>\n",
       "<table border=\"1\" class=\"dataframe\">\n",
       "  <thead>\n",
       "    <tr style=\"text-align: right;\">\n",
       "      <th></th>\n",
       "      <th>Taxable.Income</th>\n",
       "      <th>Taxable_Income</th>\n",
       "    </tr>\n",
       "  </thead>\n",
       "  <tbody>\n",
       "    <tr>\n",
       "      <th>0</th>\n",
       "      <td>68833</td>\n",
       "      <td>1</td>\n",
       "    </tr>\n",
       "    <tr>\n",
       "      <th>1</th>\n",
       "      <td>33700</td>\n",
       "      <td>1</td>\n",
       "    </tr>\n",
       "    <tr>\n",
       "      <th>2</th>\n",
       "      <td>36925</td>\n",
       "      <td>1</td>\n",
       "    </tr>\n",
       "    <tr>\n",
       "      <th>3</th>\n",
       "      <td>50190</td>\n",
       "      <td>1</td>\n",
       "    </tr>\n",
       "    <tr>\n",
       "      <th>4</th>\n",
       "      <td>81002</td>\n",
       "      <td>1</td>\n",
       "    </tr>\n",
       "    <tr>\n",
       "      <th>...</th>\n",
       "      <td>...</td>\n",
       "      <td>...</td>\n",
       "    </tr>\n",
       "    <tr>\n",
       "      <th>595</th>\n",
       "      <td>76340</td>\n",
       "      <td>1</td>\n",
       "    </tr>\n",
       "    <tr>\n",
       "      <th>596</th>\n",
       "      <td>69967</td>\n",
       "      <td>1</td>\n",
       "    </tr>\n",
       "    <tr>\n",
       "      <th>597</th>\n",
       "      <td>47334</td>\n",
       "      <td>1</td>\n",
       "    </tr>\n",
       "    <tr>\n",
       "      <th>598</th>\n",
       "      <td>98592</td>\n",
       "      <td>1</td>\n",
       "    </tr>\n",
       "    <tr>\n",
       "      <th>599</th>\n",
       "      <td>96519</td>\n",
       "      <td>1</td>\n",
       "    </tr>\n",
       "  </tbody>\n",
       "</table>\n",
       "<p>600 rows × 2 columns</p>\n",
       "</div>"
      ],
      "text/plain": [
       "     Taxable.Income  Taxable_Income\n",
       "0             68833               1\n",
       "1             33700               1\n",
       "2             36925               1\n",
       "3             50190               1\n",
       "4             81002               1\n",
       "..              ...             ...\n",
       "595           76340               1\n",
       "596           69967               1\n",
       "597           47334               1\n",
       "598           98592               1\n",
       "599           96519               1\n",
       "\n",
       "[600 rows x 2 columns]"
      ]
     },
     "execution_count": 21,
     "metadata": {},
     "output_type": "execute_result"
    }
   ],
   "source": [
    "#Crosschecking replaced values is right or not.\n",
    "df[['Taxable.Income','Taxable_Income']]"
   ]
  },
  {
   "cell_type": "code",
   "execution_count": 22,
   "id": "5362a0a1",
   "metadata": {},
   "outputs": [],
   "source": [
    "#Dropping \n",
    "df=df.drop('Taxable.Income',axis=1)"
   ]
  },
  {
   "cell_type": "markdown",
   "id": "c81779e5",
   "metadata": {},
   "source": [
    "# Checking for missing/Null values"
   ]
  },
  {
   "cell_type": "code",
   "execution_count": 23,
   "id": "ee89bdbe",
   "metadata": {},
   "outputs": [
    {
     "data": {
      "text/plain": [
       "Undergrad                  0\n",
       "City.Population            0\n",
       "Work.Experience            0\n",
       "Urban                      0\n",
       "Marital.Status_Divorced    0\n",
       "Marital.Status_Married     0\n",
       "Marital.Status_Single      0\n",
       "Taxable_Income             0\n",
       "dtype: int64"
      ]
     },
     "execution_count": 23,
     "metadata": {},
     "output_type": "execute_result"
    }
   ],
   "source": [
    "#Numbers of null values present in columns.\n",
    "df.isna().sum()"
   ]
  },
  {
   "cell_type": "markdown",
   "id": "67542cd0",
   "metadata": {},
   "source": [
    "There is no null/missing values presend in dataset."
   ]
  },
  {
   "cell_type": "markdown",
   "id": "6d4eac11",
   "metadata": {},
   "source": [
    "# Outliers"
   ]
  },
  {
   "cell_type": "code",
   "execution_count": 24,
   "id": "64dcfa6d",
   "metadata": {},
   "outputs": [
    {
     "data": {
      "text/plain": [
       "<function matplotlib.pyplot.show(close=None, block=None)>"
      ]
     },
     "execution_count": 24,
     "metadata": {},
     "output_type": "execute_result"
    },
    {
     "data": {
      "image/png": "[encoded data removed]",
      "text/plain": [
       "<Figure size 640x480 with 1 Axes>"
      ]
     },
     "metadata": {},
     "output_type": "display_data"
    }
   ],
   "source": [
    "plt.boxplot(df.Undergrad,vert=False)\n",
    "plt.title('Undergrad_Boxplot')\n",
    "plt.show"
   ]
  },
  {
   "cell_type": "code",
   "execution_count": 25,
   "id": "7295b4c0",
   "metadata": {},
   "outputs": [
    {
     "data": {
      "text/plain": [
       "<function matplotlib.pyplot.show(close=None, block=None)>"
      ]
     },
     "execution_count": 25,
     "metadata": {},
     "output_type": "execute_result"
    },
    {
     "data": {
      "image/png": "[encoded data removed]",
      "text/plain": [
       "<Figure size 640x480 with 1 Axes>"
      ]
     },
     "metadata": {},
     "output_type": "display_data"
    }
   ],
   "source": [
    "plt.boxplot(df['City.Population'],vert=False)\n",
    "plt.title('City.Population_Boxplot')\n",
    "plt.show"
   ]
  },
  {
   "cell_type": "code",
   "execution_count": 26,
   "id": "2fda5527",
   "metadata": {},
   "outputs": [
    {
     "data": {
      "text/plain": [
       "<function matplotlib.pyplot.show(close=None, block=None)>"
      ]
     },
     "execution_count": 26,
     "metadata": {},
     "output_type": "execute_result"
    },
    {
     "data": {
      "image/png": "[encoded data removed]",
      "text/plain": [
       "<Figure size 640x480 with 1 Axes>"
      ]
     },
     "metadata": {},
     "output_type": "display_data"
    }
   ],
   "source": [
    "plt.boxplot(df['Work.Experience'],vert=False)\n",
    "plt.title('Work.Experience_Boxplot')\n",
    "plt.show"
   ]
  },
  {
   "cell_type": "code",
   "execution_count": 27,
   "id": "1a51c6f6",
   "metadata": {
    "scrolled": true
   },
   "outputs": [
    {
     "data": {
      "text/plain": [
       "<function matplotlib.pyplot.show(close=None, block=None)>"
      ]
     },
     "execution_count": 27,
     "metadata": {},
     "output_type": "execute_result"
    },
    {
     "data": {
      "image/png": "[encoded data removed]",
      "text/plain": [
       "<Figure size 640x480 with 1 Axes>"
      ]
     },
     "metadata": {},
     "output_type": "display_data"
    }
   ],
   "source": [
    "plt.boxplot(df['Urban'],vert=False)\n",
    "plt.title('Urban_Boxplot')\n",
    "plt.show"
   ]
  },
  {
   "cell_type": "markdown",
   "id": "b0e84f22",
   "metadata": {},
   "source": [
    "There is no outlier."
   ]
  },
  {
   "cell_type": "markdown",
   "id": "42d88744",
   "metadata": {},
   "source": [
    "# Assigning Independent variables in X and Dependent variable in Y"
   ]
  },
  {
   "cell_type": "code",
   "execution_count": 28,
   "id": "d4b2dc69",
   "metadata": {},
   "outputs": [
    {
     "data": {
      "text/plain": [
       "Index(['Undergrad', 'City.Population', 'Work.Experience', 'Urban',\n",
       "       'Marital.Status_Divorced', 'Marital.Status_Married',\n",
       "       'Marital.Status_Single', 'Taxable_Income'],\n",
       "      dtype='object')"
      ]
     },
     "execution_count": 28,
     "metadata": {},
     "output_type": "execute_result"
    }
   ],
   "source": [
    "df.columns"
   ]
  },
  {
   "cell_type": "code",
   "execution_count": 29,
   "id": "32939b4d",
   "metadata": {},
   "outputs": [],
   "source": [
    "x=df.drop('Taxable_Income',axis=1)\n",
    "y=df.Taxable_Income"
   ]
  },
  {
   "cell_type": "code",
   "execution_count": 30,
   "id": "99ca685d",
   "metadata": {},
   "outputs": [
    {
     "data": {
      "text/plain": [
       "((600, 7), (600,))"
      ]
     },
     "execution_count": 30,
     "metadata": {},
     "output_type": "execute_result"
    }
   ],
   "source": [
    "x.shape,y.shape"
   ]
  },
  {
   "cell_type": "markdown",
   "id": "c58e6957",
   "metadata": {},
   "source": [
    "# Train Test Split"
   ]
  },
  {
   "cell_type": "code",
   "execution_count": 31,
   "id": "597ec096",
   "metadata": {},
   "outputs": [
    {
     "data": {
      "text/plain": [
       "((420, 7), (180, 7), (420,), (180,))"
      ]
     },
     "execution_count": 31,
     "metadata": {},
     "output_type": "execute_result"
    }
   ],
   "source": [
    "xtrain,xtest,ytrain,ytest=train_test_split(x,y,test_size=0.3,random_state=3)\n",
    "xtrain.shape ,xtest.shape ,ytrain.shape ,ytest.shape"
   ]
  },
  {
   "cell_type": "markdown",
   "id": "b384e421",
   "metadata": {},
   "source": [
    "# Insight\n",
    "1) data is saperated in 2 part\n",
    "\n",
    "2) one part is train data which we will use to prepare the model\n",
    "\n",
    "3) second part is test data on which we will test our model prepared by using train data\n",
    "\n",
    "4) the ddata is split in 70% - 30% ratio which means 70% of data is in Train data and remaining 30% of data is in test data"
   ]
  },
  {
   "cell_type": "markdown",
   "id": "5d2b6e6d",
   "metadata": {},
   "source": [
    "# Decision Tree Model"
   ]
  },
  {
   "cell_type": "code",
   "execution_count": 32,
   "id": "7fc94419",
   "metadata": {},
   "outputs": [
    {
     "data": {
      "text/plain": [
       "DecisionTreeClassifier()"
      ]
     },
     "execution_count": 32,
     "metadata": {},
     "output_type": "execute_result"
    }
   ],
   "source": [
    "model=RF()\n",
    "model.fit(xtrain,ytrain)"
   ]
  },
  {
   "cell_type": "code",
   "execution_count": 33,
   "id": "90d0de0d",
   "metadata": {},
   "outputs": [
    {
     "data": {
      "text/plain": [
       "1.0"
      ]
     },
     "execution_count": 33,
     "metadata": {},
     "output_type": "execute_result"
    }
   ],
   "source": [
    "model.score(xtrain,ytrain)"
   ]
  },
  {
   "cell_type": "code",
   "execution_count": 34,
   "id": "601b443e",
   "metadata": {},
   "outputs": [
    {
     "data": {
      "text/plain": [
       "0.6555555555555556"
      ]
     },
     "execution_count": 34,
     "metadata": {},
     "output_type": "execute_result"
    }
   ],
   "source": [
    "model.score(xtest,ytest)"
   ]
  },
  {
   "cell_type": "markdown",
   "id": "e19da75d",
   "metadata": {},
   "source": [
    "# confusion_matrix"
   ]
  },
  {
   "cell_type": "code",
   "execution_count": 40,
   "id": "2ac643f7",
   "metadata": {},
   "outputs": [],
   "source": [
    "from sklearn.metrics import confusion_matrix"
   ]
  },
  {
   "cell_type": "code",
   "execution_count": 41,
   "id": "bb7aaae9",
   "metadata": {},
   "outputs": [],
   "source": [
    "y_pred=model.predict(xtest)"
   ]
  },
  {
   "cell_type": "code",
   "execution_count": 42,
   "id": "9eb35693",
   "metadata": {},
   "outputs": [
    {
     "data": {
      "text/plain": [
       "array([[108,  30],\n",
       "       [ 32,  10]], dtype=int64)"
      ]
     },
     "execution_count": 42,
     "metadata": {},
     "output_type": "execute_result"
    }
   ],
   "source": [
    "cm=confusion_matrix(ytest,y_pred,labels=(1,0))\n",
    "cm"
   ]
  },
  {
   "cell_type": "code",
   "execution_count": 43,
   "id": "7b60b555",
   "metadata": {},
   "outputs": [
    {
     "name": "stdout",
     "output_type": "stream",
     "text": [
      "              precision    recall  f1-score   support\n",
      "\n",
      "           0       0.25      0.24      0.24        42\n",
      "           1       0.77      0.78      0.78       138\n",
      "\n",
      "    accuracy                           0.66       180\n",
      "   macro avg       0.51      0.51      0.51       180\n",
      "weighted avg       0.65      0.66      0.65       180\n",
      "\n"
     ]
    }
   ],
   "source": [
    "from sklearn.metrics import classification_report\n",
    "print(classification_report(ytest,y_pred))"
   ]
  },
  {
   "cell_type": "code",
   "execution_count": null,
   "id": "8ded9007",
   "metadata": {},
   "outputs": [],
   "source": []
  },
  {
   "cell_type": "markdown",
   "id": "e2427dcd",
   "metadata": {},
   "source": [
    "# GridSearchCV"
   ]
  },
  {
   "cell_type": "code",
   "execution_count": 44,
   "id": "7ff4256c",
   "metadata": {},
   "outputs": [
    {
     "data": {
      "text/plain": [
       "GridSearchCV(cv=5, estimator=DecisionTreeClassifier(),\n",
       "             param_grid={'max_depth': [2, 3, 4, 5],\n",
       "                         'max_features': [2, 3, 4, 5, 6, 7],\n",
       "                         'min_samples_split': [2, 3, 4, 5, 6, 7]})"
      ]
     },
     "execution_count": 44,
     "metadata": {},
     "output_type": "execute_result"
    }
   ],
   "source": [
    "#importing GridSearchCv\n",
    "from sklearn.model_selection import GridSearchCV\n",
    "param_grid = {'max_depth': [2,3, 4, 5,], 'min_samples_split': [2,3,4,5,6,7],'max_features':[2,3,4,5,6,7]}\n",
    "grid_search = GridSearchCV(model, param_grid, cv=5)\n",
    "grid_search.fit(xtrain, ytrain)"
   ]
  },
  {
   "cell_type": "code",
   "execution_count": 45,
   "id": "a0a8e534",
   "metadata": {},
   "outputs": [
    {
     "name": "stdout",
     "output_type": "stream",
     "text": [
      "Best parameters: {'max_depth': 2, 'max_features': 2, 'min_samples_split': 6}\n",
      "Best score: 0.8047619047619048\n"
     ]
    }
   ],
   "source": [
    "print('Best parameters:', grid_search.best_params_)\n",
    "print('Best score:', grid_search.best_score_)"
   ]
  },
  {
   "cell_type": "code",
   "execution_count": 48,
   "id": "0d4e6919",
   "metadata": {},
   "outputs": [
    {
     "data": {
      "text/plain": [
       "DecisionTreeClassifier(max_depth=2, max_features=2, min_samples_split=6)"
      ]
     },
     "execution_count": 48,
     "metadata": {},
     "output_type": "execute_result"
    }
   ],
   "source": [
    "model1=RF(max_depth= 2,max_features= 2,min_samples_split= 6)\n",
    "model1.fit(xtrain , ytrain)"
   ]
  },
  {
   "cell_type": "code",
   "execution_count": 49,
   "id": "57dcbdaa",
   "metadata": {},
   "outputs": [
    {
     "data": {
      "text/plain": [
       "0.8047619047619048"
      ]
     },
     "execution_count": 49,
     "metadata": {},
     "output_type": "execute_result"
    }
   ],
   "source": [
    "model1.score(xtrain,ytrain)\n"
   ]
  },
  {
   "cell_type": "code",
   "execution_count": 50,
   "id": "e8e8efcd",
   "metadata": {},
   "outputs": [
    {
     "data": {
      "text/plain": [
       "0.7666666666666667"
      ]
     },
     "execution_count": 50,
     "metadata": {},
     "output_type": "execute_result"
    }
   ],
   "source": [
    "model1.score(xtest,ytest)\n"
   ]
  },
  {
   "cell_type": "markdown",
   "id": "f471573b",
   "metadata": {},
   "source": [
    "# confusion_matrix"
   ]
  },
  {
   "cell_type": "code",
   "execution_count": 51,
   "id": "b56b0883",
   "metadata": {},
   "outputs": [],
   "source": [
    "y_pred=model1.predict(xtest)"
   ]
  },
  {
   "cell_type": "code",
   "execution_count": 52,
   "id": "9fc31f79",
   "metadata": {},
   "outputs": [
    {
     "data": {
      "text/plain": [
       "array([[138,   0],\n",
       "       [ 42,   0]], dtype=int64)"
      ]
     },
     "execution_count": 52,
     "metadata": {},
     "output_type": "execute_result"
    }
   ],
   "source": [
    "cm=confusion_matrix(ytest,y_pred,labels=(1,0))\n",
    "cm"
   ]
  },
  {
   "cell_type": "code",
   "execution_count": 53,
   "id": "5b2acf4b",
   "metadata": {
    "scrolled": false
   },
   "outputs": [
    {
     "name": "stdout",
     "output_type": "stream",
     "text": [
      "              precision    recall  f1-score   support\n",
      "\n",
      "           0       0.00      0.00      0.00        42\n",
      "           1       0.77      1.00      0.87       138\n",
      "\n",
      "    accuracy                           0.77       180\n",
      "   macro avg       0.38      0.50      0.43       180\n",
      "weighted avg       0.59      0.77      0.67       180\n",
      "\n"
     ]
    },
    {
     "name": "stderr",
     "output_type": "stream",
     "text": [
      "C:\\Users\\admin\\anaconda3\\lib\\site-packages\\sklearn\\metrics\\_classification.py:1318: UndefinedMetricWarning: Precision and F-score are ill-defined and being set to 0.0 in labels with no predicted samples. Use `zero_division` parameter to control this behavior.\n",
      "  _warn_prf(average, modifier, msg_start, len(result))\n",
      "C:\\Users\\admin\\anaconda3\\lib\\site-packages\\sklearn\\metrics\\_classification.py:1318: UndefinedMetricWarning: Precision and F-score are ill-defined and being set to 0.0 in labels with no predicted samples. Use `zero_division` parameter to control this behavior.\n",
      "  _warn_prf(average, modifier, msg_start, len(result))\n",
      "C:\\Users\\admin\\anaconda3\\lib\\site-packages\\sklearn\\metrics\\_classification.py:1318: UndefinedMetricWarning: Precision and F-score are ill-defined and being set to 0.0 in labels with no predicted samples. Use `zero_division` parameter to control this behavior.\n",
      "  _warn_prf(average, modifier, msg_start, len(result))\n"
     ]
    }
   ],
   "source": [
    "print(classification_report(ytest,y_pred))"
   ]
  },
  {
   "cell_type": "markdown",
   "id": "5a2a8c03",
   "metadata": {},
   "source": [
    "# Transformation of data"
   ]
  },
  {
   "cell_type": "markdown",
   "id": "80f39071",
   "metadata": {},
   "source": [
    "# 1st:- Standardization"
   ]
  },
  {
   "cell_type": "code",
   "execution_count": 54,
   "id": "7a82f3ca",
   "metadata": {},
   "outputs": [],
   "source": [
    "#1st:- standardization \n",
    "from sklearn.preprocessing import StandardScaler \n",
    "scaler=StandardScaler()\n",
    "x_train_std=scaler.fit_transform(xtrain)\n",
    "x_test_std=scaler.transform(xtest)"
   ]
  },
  {
   "cell_type": "code",
   "execution_count": 59,
   "id": "72a4b2e5",
   "metadata": {},
   "outputs": [
    {
     "data": {
      "text/plain": [
       "DecisionTreeClassifier(max_depth=2, max_features=2, min_samples_split=6)"
      ]
     },
     "execution_count": 59,
     "metadata": {},
     "output_type": "execute_result"
    }
   ],
   "source": [
    "model2=RF(max_depth= 2,max_features= 2,min_samples_split= 6)\n",
    "model2.fit(xtrain , ytrain)"
   ]
  },
  {
   "cell_type": "code",
   "execution_count": 60,
   "id": "09452be1",
   "metadata": {},
   "outputs": [
    {
     "name": "stderr",
     "output_type": "stream",
     "text": [
      "C:\\Users\\admin\\anaconda3\\lib\\site-packages\\sklearn\\base.py:450: UserWarning: X does not have valid feature names, but DecisionTreeClassifier was fitted with feature names\n",
      "  warnings.warn(\n"
     ]
    },
    {
     "data": {
      "text/plain": [
       "0.8047619047619048"
      ]
     },
     "execution_count": 60,
     "metadata": {},
     "output_type": "execute_result"
    }
   ],
   "source": [
    "model2.score(x_train_std,ytrain)"
   ]
  },
  {
   "cell_type": "code",
   "execution_count": 61,
   "id": "eb0f9e70",
   "metadata": {},
   "outputs": [
    {
     "name": "stderr",
     "output_type": "stream",
     "text": [
      "C:\\Users\\admin\\anaconda3\\lib\\site-packages\\sklearn\\base.py:450: UserWarning: X does not have valid feature names, but DecisionTreeClassifier was fitted with feature names\n",
      "  warnings.warn(\n"
     ]
    },
    {
     "data": {
      "text/plain": [
       "0.7666666666666667"
      ]
     },
     "execution_count": 61,
     "metadata": {},
     "output_type": "execute_result"
    }
   ],
   "source": [
    "model2.score(x_test_std,ytest)"
   ]
  },
  {
   "cell_type": "code",
   "execution_count": 62,
   "id": "e7bdd823",
   "metadata": {},
   "outputs": [
    {
     "name": "stderr",
     "output_type": "stream",
     "text": [
      "C:\\Users\\admin\\anaconda3\\lib\\site-packages\\sklearn\\base.py:450: UserWarning: X does not have valid feature names, but DecisionTreeClassifier was fitted with feature names\n",
      "  warnings.warn(\n"
     ]
    }
   ],
   "source": [
    "y_pred_std=model2.predict(x_test_std)"
   ]
  },
  {
   "cell_type": "code",
   "execution_count": 63,
   "id": "b36a5263",
   "metadata": {},
   "outputs": [
    {
     "data": {
      "text/plain": [
       "array([[138,   0],\n",
       "       [ 42,   0]], dtype=int64)"
      ]
     },
     "execution_count": 63,
     "metadata": {},
     "output_type": "execute_result"
    }
   ],
   "source": [
    "cm_std=confusion_matrix(ytest,y_pred_std,labels=(1,0))\n",
    "cm_std"
   ]
  },
  {
   "cell_type": "code",
   "execution_count": 64,
   "id": "cdf8be9f",
   "metadata": {},
   "outputs": [
    {
     "name": "stdout",
     "output_type": "stream",
     "text": [
      "              precision    recall  f1-score   support\n",
      "\n",
      "           0       0.00      0.00      0.00        42\n",
      "           1       0.77      1.00      0.87       138\n",
      "\n",
      "    accuracy                           0.77       180\n",
      "   macro avg       0.38      0.50      0.43       180\n",
      "weighted avg       0.59      0.77      0.67       180\n",
      "\n"
     ]
    },
    {
     "name": "stderr",
     "output_type": "stream",
     "text": [
      "C:\\Users\\admin\\anaconda3\\lib\\site-packages\\sklearn\\metrics\\_classification.py:1318: UndefinedMetricWarning: Precision and F-score are ill-defined and being set to 0.0 in labels with no predicted samples. Use `zero_division` parameter to control this behavior.\n",
      "  _warn_prf(average, modifier, msg_start, len(result))\n",
      "C:\\Users\\admin\\anaconda3\\lib\\site-packages\\sklearn\\metrics\\_classification.py:1318: UndefinedMetricWarning: Precision and F-score are ill-defined and being set to 0.0 in labels with no predicted samples. Use `zero_division` parameter to control this behavior.\n",
      "  _warn_prf(average, modifier, msg_start, len(result))\n",
      "C:\\Users\\admin\\anaconda3\\lib\\site-packages\\sklearn\\metrics\\_classification.py:1318: UndefinedMetricWarning: Precision and F-score are ill-defined and being set to 0.0 in labels with no predicted samples. Use `zero_division` parameter to control this behavior.\n",
      "  _warn_prf(average, modifier, msg_start, len(result))\n"
     ]
    }
   ],
   "source": [
    "print(classification_report(ytest,y_pred_std))"
   ]
  },
  {
   "cell_type": "code",
   "execution_count": null,
   "id": "8f1e7b5e",
   "metadata": {},
   "outputs": [],
   "source": []
  },
  {
   "cell_type": "code",
   "execution_count": null,
   "id": "3129da88",
   "metadata": {},
   "outputs": [],
   "source": []
  },
  {
   "cell_type": "code",
   "execution_count": null,
   "id": "4ba0d869",
   "metadata": {},
   "outputs": [],
   "source": []
  },
  {
   "cell_type": "code",
   "execution_count": null,
   "id": "065641bc",
   "metadata": {},
   "outputs": [],
   "source": []
  },
  {
   "cell_type": "markdown",
   "id": "488fb504",
   "metadata": {},
   "source": [
    "# 2nd:- Robust scaler"
   ]
  },
  {
   "cell_type": "code",
   "execution_count": 65,
   "id": "f32e1f0b",
   "metadata": {},
   "outputs": [],
   "source": [
    "#2nd:- Robust scaler\n",
    "from sklearn.preprocessing import RobustScaler\n",
    "robust=RobustScaler()\n",
    "x_train_rob=robust.fit_transform(xtrain)\n",
    "x_test_rob=robust.transform(xtest)"
   ]
  },
  {
   "cell_type": "code",
   "execution_count": 66,
   "id": "f3413485",
   "metadata": {},
   "outputs": [
    {
     "data": {
      "text/plain": [
       "DecisionTreeClassifier(max_depth=2, max_features=2, min_samples_split=6)"
      ]
     },
     "execution_count": 66,
     "metadata": {},
     "output_type": "execute_result"
    }
   ],
   "source": [
    "#apply this transforemed date in model\n",
    "model3 =RF(max_depth= 2,max_features= 2,min_samples_split= 6)\n",
    "model3.fit(x_train_rob,ytrain)"
   ]
  },
  {
   "cell_type": "code",
   "execution_count": 67,
   "id": "f1446b55",
   "metadata": {},
   "outputs": [
    {
     "data": {
      "text/plain": [
       "0.8047619047619048"
      ]
     },
     "execution_count": 67,
     "metadata": {},
     "output_type": "execute_result"
    }
   ],
   "source": [
    "#score of model on train data\n",
    "model3.score(x_train_rob,ytrain)"
   ]
  },
  {
   "cell_type": "code",
   "execution_count": 68,
   "id": "2251bfe4",
   "metadata": {},
   "outputs": [
    {
     "data": {
      "text/plain": [
       "0.7666666666666667"
      ]
     },
     "execution_count": 68,
     "metadata": {},
     "output_type": "execute_result"
    }
   ],
   "source": [
    "#score of model on train data\n",
    "model3.score(x_test_rob,ytest)"
   ]
  },
  {
   "cell_type": "code",
   "execution_count": 69,
   "id": "4d00da0d",
   "metadata": {},
   "outputs": [],
   "source": [
    "y_pred_rob=model3.predict(x_test_rob)"
   ]
  },
  {
   "cell_type": "code",
   "execution_count": 70,
   "id": "43ede1ce",
   "metadata": {},
   "outputs": [
    {
     "data": {
      "text/plain": [
       "array([[138,   0],\n",
       "       [ 42,   0]], dtype=int64)"
      ]
     },
     "execution_count": 70,
     "metadata": {},
     "output_type": "execute_result"
    }
   ],
   "source": [
    "cm_rob=confusion_matrix(ytest,y_pred_rob,labels=(1,0))\n",
    "cm_rob"
   ]
  },
  {
   "cell_type": "code",
   "execution_count": 71,
   "id": "5f1f4af6",
   "metadata": {},
   "outputs": [
    {
     "name": "stdout",
     "output_type": "stream",
     "text": [
      "              precision    recall  f1-score   support\n",
      "\n",
      "           0       0.00      0.00      0.00        42\n",
      "           1       0.77      1.00      0.87       138\n",
      "\n",
      "    accuracy                           0.77       180\n",
      "   macro avg       0.38      0.50      0.43       180\n",
      "weighted avg       0.59      0.77      0.67       180\n",
      "\n"
     ]
    },
    {
     "name": "stderr",
     "output_type": "stream",
     "text": [
      "C:\\Users\\admin\\anaconda3\\lib\\site-packages\\sklearn\\metrics\\_classification.py:1318: UndefinedMetricWarning: Precision and F-score are ill-defined and being set to 0.0 in labels with no predicted samples. Use `zero_division` parameter to control this behavior.\n",
      "  _warn_prf(average, modifier, msg_start, len(result))\n",
      "C:\\Users\\admin\\anaconda3\\lib\\site-packages\\sklearn\\metrics\\_classification.py:1318: UndefinedMetricWarning: Precision and F-score are ill-defined and being set to 0.0 in labels with no predicted samples. Use `zero_division` parameter to control this behavior.\n",
      "  _warn_prf(average, modifier, msg_start, len(result))\n",
      "C:\\Users\\admin\\anaconda3\\lib\\site-packages\\sklearn\\metrics\\_classification.py:1318: UndefinedMetricWarning: Precision and F-score are ill-defined and being set to 0.0 in labels with no predicted samples. Use `zero_division` parameter to control this behavior.\n",
      "  _warn_prf(average, modifier, msg_start, len(result))\n"
     ]
    }
   ],
   "source": [
    "print(classification_report(ytest,y_pred_rob))"
   ]
  },
  {
   "cell_type": "code",
   "execution_count": null,
   "id": "491a5491",
   "metadata": {},
   "outputs": [],
   "source": []
  },
  {
   "cell_type": "markdown",
   "id": "d14642a0",
   "metadata": {},
   "source": [
    "# 3rd:- Min Max Scaler"
   ]
  },
  {
   "cell_type": "code",
   "execution_count": 72,
   "id": "c23e874c",
   "metadata": {},
   "outputs": [],
   "source": [
    "#3rd:- Min Max scaler\n",
    "from sklearn.preprocessing import MinMaxScaler\n",
    "minmax=MinMaxScaler()\n",
    "x_train_mm=minmax.fit_transform(xtrain)\n",
    "x_test_mm=minmax.transform(xtest)"
   ]
  },
  {
   "cell_type": "code",
   "execution_count": 75,
   "id": "12d0e99a",
   "metadata": {},
   "outputs": [
    {
     "data": {
      "text/plain": [
       "DecisionTreeClassifier(max_depth=2, max_features=2, min_samples_split=6)"
      ]
     },
     "execution_count": 75,
     "metadata": {},
     "output_type": "execute_result"
    }
   ],
   "source": [
    "#apply this transforemed date in model\n",
    "model4 = RF(max_depth =2,max_features= 2,min_samples_split= 6)\n",
    "model4.fit(x_train_mm,ytrain)"
   ]
  },
  {
   "cell_type": "code",
   "execution_count": 76,
   "id": "40115909",
   "metadata": {},
   "outputs": [
    {
     "data": {
      "text/plain": [
       "0.8095238095238095"
      ]
     },
     "execution_count": 76,
     "metadata": {},
     "output_type": "execute_result"
    }
   ],
   "source": [
    "#score of model on train data\n",
    "model4.score(x_train_mm,ytrain)"
   ]
  },
  {
   "cell_type": "code",
   "execution_count": 77,
   "id": "7302fd46",
   "metadata": {},
   "outputs": [
    {
     "data": {
      "text/plain": [
       "0.75"
      ]
     },
     "execution_count": 77,
     "metadata": {},
     "output_type": "execute_result"
    }
   ],
   "source": [
    "#score of model on train data\n",
    "model4.score(x_test_mm,ytest)"
   ]
  },
  {
   "cell_type": "code",
   "execution_count": 78,
   "id": "6b021392",
   "metadata": {},
   "outputs": [],
   "source": [
    "y_pred_mm=model4.predict(x_test_mm)"
   ]
  },
  {
   "cell_type": "code",
   "execution_count": 79,
   "id": "a987abf8",
   "metadata": {},
   "outputs": [
    {
     "data": {
      "text/plain": [
       "array([[135,   3],\n",
       "       [ 42,   0]], dtype=int64)"
      ]
     },
     "execution_count": 79,
     "metadata": {},
     "output_type": "execute_result"
    }
   ],
   "source": [
    "cm_mm=confusion_matrix(ytest,y_pred_mm,labels=(1,0))\n",
    "cm_mm"
   ]
  },
  {
   "cell_type": "code",
   "execution_count": 80,
   "id": "9170d7bf",
   "metadata": {},
   "outputs": [
    {
     "name": "stdout",
     "output_type": "stream",
     "text": [
      "              precision    recall  f1-score   support\n",
      "\n",
      "           0       0.00      0.00      0.00        42\n",
      "           1       0.76      0.98      0.86       138\n",
      "\n",
      "    accuracy                           0.75       180\n",
      "   macro avg       0.38      0.49      0.43       180\n",
      "weighted avg       0.58      0.75      0.66       180\n",
      "\n"
     ]
    }
   ],
   "source": [
    "print(classification_report(ytest,y_pred_mm))"
   ]
  },
  {
   "cell_type": "code",
   "execution_count": null,
   "id": "d6d3c1c1",
   "metadata": {},
   "outputs": [],
   "source": []
  },
  {
   "cell_type": "markdown",
   "id": "2fa9404a",
   "metadata": {},
   "source": [
    "# 5th:- square transformation"
   ]
  },
  {
   "cell_type": "code",
   "execution_count": 81,
   "id": "c7a97d6b",
   "metadata": {},
   "outputs": [],
   "source": [
    "x_train_s=xtrain**2\n",
    "x_test_s=xtest**2"
   ]
  },
  {
   "cell_type": "code",
   "execution_count": 97,
   "id": "68ee63e3",
   "metadata": {},
   "outputs": [
    {
     "data": {
      "text/plain": [
       "DecisionTreeClassifier(max_depth=2, max_features=2, min_samples_split=6)"
      ]
     },
     "execution_count": 97,
     "metadata": {},
     "output_type": "execute_result"
    }
   ],
   "source": [
    "#apply this transforemed date in model\n",
    "model5 =  RF(max_depth= 2,max_features= 2,min_samples_split= 6)\n",
    "model5.fit(x_train_s,ytrain)"
   ]
  },
  {
   "cell_type": "code",
   "execution_count": 98,
   "id": "c17f510e",
   "metadata": {},
   "outputs": [
    {
     "data": {
      "text/plain": [
       "0.8047619047619048"
      ]
     },
     "execution_count": 98,
     "metadata": {},
     "output_type": "execute_result"
    }
   ],
   "source": [
    "#score of model on train data\n",
    "model5.score(x_train_s,ytrain)"
   ]
  },
  {
   "cell_type": "code",
   "execution_count": 99,
   "id": "5bc736ad",
   "metadata": {},
   "outputs": [
    {
     "data": {
      "text/plain": [
       "0.7666666666666667"
      ]
     },
     "execution_count": 99,
     "metadata": {},
     "output_type": "execute_result"
    }
   ],
   "source": [
    "#score of model on train data\n",
    "model5.score(x_test_s,ytest)"
   ]
  },
  {
   "cell_type": "code",
   "execution_count": 100,
   "id": "89758e33",
   "metadata": {},
   "outputs": [],
   "source": [
    "y_pred_s=model5.predict(x_test_s)"
   ]
  },
  {
   "cell_type": "code",
   "execution_count": 101,
   "id": "6d79a836",
   "metadata": {},
   "outputs": [
    {
     "data": {
      "text/plain": [
       "array([[138,   0],\n",
       "       [ 42,   0]], dtype=int64)"
      ]
     },
     "execution_count": 101,
     "metadata": {},
     "output_type": "execute_result"
    }
   ],
   "source": [
    "cm_s=confusion_matrix(ytest,y_pred_s,labels=(1,0))\n",
    "cm_s"
   ]
  },
  {
   "cell_type": "code",
   "execution_count": 102,
   "id": "2f4cc063",
   "metadata": {
    "scrolled": true
   },
   "outputs": [
    {
     "name": "stdout",
     "output_type": "stream",
     "text": [
      "              precision    recall  f1-score   support\n",
      "\n",
      "           0       0.00      0.00      0.00        42\n",
      "           1       0.77      1.00      0.87       138\n",
      "\n",
      "    accuracy                           0.77       180\n",
      "   macro avg       0.38      0.50      0.43       180\n",
      "weighted avg       0.59      0.77      0.67       180\n",
      "\n"
     ]
    },
    {
     "name": "stderr",
     "output_type": "stream",
     "text": [
      "C:\\Users\\admin\\anaconda3\\lib\\site-packages\\sklearn\\metrics\\_classification.py:1318: UndefinedMetricWarning: Precision and F-score are ill-defined and being set to 0.0 in labels with no predicted samples. Use `zero_division` parameter to control this behavior.\n",
      "  _warn_prf(average, modifier, msg_start, len(result))\n",
      "C:\\Users\\admin\\anaconda3\\lib\\site-packages\\sklearn\\metrics\\_classification.py:1318: UndefinedMetricWarning: Precision and F-score are ill-defined and being set to 0.0 in labels with no predicted samples. Use `zero_division` parameter to control this behavior.\n",
      "  _warn_prf(average, modifier, msg_start, len(result))\n",
      "C:\\Users\\admin\\anaconda3\\lib\\site-packages\\sklearn\\metrics\\_classification.py:1318: UndefinedMetricWarning: Precision and F-score are ill-defined and being set to 0.0 in labels with no predicted samples. Use `zero_division` parameter to control this behavior.\n",
      "  _warn_prf(average, modifier, msg_start, len(result))\n"
     ]
    }
   ],
   "source": [
    "print(classification_report(ytest,y_pred_s))"
   ]
  },
  {
   "cell_type": "code",
   "execution_count": null,
   "id": "10be7a18",
   "metadata": {},
   "outputs": [],
   "source": []
  },
  {
   "cell_type": "markdown",
   "id": "57a5e6db",
   "metadata": {},
   "source": [
    "# 6th:- square root transformation"
   ]
  },
  {
   "cell_type": "code",
   "execution_count": 103,
   "id": "84fc3853",
   "metadata": {},
   "outputs": [],
   "source": [
    "x_train_sr=xtrain**0.5\n",
    "x_test_sr=xtest**0.5"
   ]
  },
  {
   "cell_type": "code",
   "execution_count": 104,
   "id": "08783849",
   "metadata": {},
   "outputs": [
    {
     "data": {
      "text/plain": [
       "DecisionTreeClassifier(max_depth=2, max_features=2, min_samples_split=6)"
      ]
     },
     "execution_count": 104,
     "metadata": {},
     "output_type": "execute_result"
    }
   ],
   "source": [
    "#apply this transforemed date in model\n",
    "model6 =  RF(max_depth= 2,max_features= 2,min_samples_split= 6)\n",
    "model6.fit(x_train_sr,ytrain)"
   ]
  },
  {
   "cell_type": "code",
   "execution_count": 105,
   "id": "79be1f2d",
   "metadata": {},
   "outputs": [
    {
     "data": {
      "text/plain": [
       "0.8071428571428572"
      ]
     },
     "execution_count": 105,
     "metadata": {},
     "output_type": "execute_result"
    }
   ],
   "source": [
    "#score of model on train data\n",
    "model6.score(x_train_sr,ytrain)"
   ]
  },
  {
   "cell_type": "code",
   "execution_count": 106,
   "id": "293b7b30",
   "metadata": {},
   "outputs": [
    {
     "data": {
      "text/plain": [
       "0.75"
      ]
     },
     "execution_count": 106,
     "metadata": {},
     "output_type": "execute_result"
    }
   ],
   "source": [
    "#score of model on train data\n",
    "model6.score(x_test_sr,ytest)"
   ]
  },
  {
   "cell_type": "code",
   "execution_count": 107,
   "id": "66cab8a5",
   "metadata": {},
   "outputs": [],
   "source": [
    "y_pred_sr=model6.predict(x_test_sr)"
   ]
  },
  {
   "cell_type": "code",
   "execution_count": 108,
   "id": "fad2ed13",
   "metadata": {},
   "outputs": [
    {
     "data": {
      "text/plain": [
       "array([[135,   3],\n",
       "       [ 42,   0]], dtype=int64)"
      ]
     },
     "execution_count": 108,
     "metadata": {},
     "output_type": "execute_result"
    }
   ],
   "source": [
    "cm_sr=confusion_matrix(ytest,y_pred_sr,labels=(1,0))\n",
    "cm_sr"
   ]
  },
  {
   "cell_type": "code",
   "execution_count": 109,
   "id": "b34b02e5",
   "metadata": {},
   "outputs": [
    {
     "name": "stdout",
     "output_type": "stream",
     "text": [
      "              precision    recall  f1-score   support\n",
      "\n",
      "           0       0.00      0.00      0.00        42\n",
      "           1       0.76      0.98      0.86       138\n",
      "\n",
      "    accuracy                           0.75       180\n",
      "   macro avg       0.38      0.49      0.43       180\n",
      "weighted avg       0.58      0.75      0.66       180\n",
      "\n"
     ]
    }
   ],
   "source": [
    "print(classification_report(ytest,y_pred_sr))"
   ]
  },
  {
   "cell_type": "code",
   "execution_count": null,
   "id": "aa5eb66f",
   "metadata": {},
   "outputs": [],
   "source": []
  },
  {
   "cell_type": "code",
   "execution_count": 112,
   "id": "3219f83b",
   "metadata": {},
   "outputs": [
    {
     "name": "stderr",
     "output_type": "stream",
     "text": [
      "C:\\Users\\admin\\anaconda3\\lib\\site-packages\\sklearn\\base.py:450: UserWarning: X does not have valid feature names, but DecisionTreeClassifier was fitted with feature names\n",
      "  warnings.warn(\n",
      "C:\\Users\\admin\\anaconda3\\lib\\site-packages\\sklearn\\base.py:450: UserWarning: X does not have valid feature names, but DecisionTreeClassifier was fitted with feature names\n",
      "  warnings.warn(\n"
     ]
    }
   ],
   "source": [
    "table={'model_no':['model','model1','model2','model3','model4','model5','model6'],\n",
    "      'Model Name':['Normal_RF','Best_RF','Std_RF','robsca_RF','mm_RF','Squar_RF','SR_RF'],\n",
    "      'Train_Score':[model.score(xtrain,ytrain),model1.score(xtrain,ytrain),model2.score(x_train_std,ytrain),model3.score(x_train_rob,ytrain),model4.score(x_train_mm,ytrain),model5.score(x_train_s,ytrain),model6.score(x_train_sr,ytrain)],\n",
    "      'Test_score':[model.score(xtest,ytest),model1.score(xtest,ytest),model2.score(x_test_std,ytest),model3.score(x_test_rob,ytest),model4.score(x_test_mm,ytest),model5.score(x_test_s,ytest),model6.score(x_test_sr,ytest)]}"
   ]
  },
  {
   "cell_type": "code",
   "execution_count": 113,
   "id": "bf9210c7",
   "metadata": {},
   "outputs": [
    {
     "data": {
      "text/html": [
       "<div>\n",
       "<style scoped>\n",
       "    .dataframe tbody tr th:only-of-type {\n",
       "        vertical-align: middle;\n",
       "    }\n",
       "\n",
       "    .dataframe tbody tr th {\n",
       "        vertical-align: top;\n",
       "    }\n",
       "\n",
       "    .dataframe thead th {\n",
       "        text-align: right;\n",
       "    }\n",
       "</style>\n",
       "<table border=\"1\" class=\"dataframe\">\n",
       "  <thead>\n",
       "    <tr style=\"text-align: right;\">\n",
       "      <th></th>\n",
       "      <th>model_no</th>\n",
       "      <th>Model Name</th>\n",
       "      <th>Train_Score</th>\n",
       "      <th>Test_score</th>\n",
       "    </tr>\n",
       "  </thead>\n",
       "  <tbody>\n",
       "    <tr>\n",
       "      <th>0</th>\n",
       "      <td>model</td>\n",
       "      <td>Normal_RF</td>\n",
       "      <td>1.000000</td>\n",
       "      <td>0.655556</td>\n",
       "    </tr>\n",
       "    <tr>\n",
       "      <th>1</th>\n",
       "      <td>model1</td>\n",
       "      <td>Best_RF</td>\n",
       "      <td>0.804762</td>\n",
       "      <td>0.766667</td>\n",
       "    </tr>\n",
       "    <tr>\n",
       "      <th>2</th>\n",
       "      <td>model2</td>\n",
       "      <td>Std_RF</td>\n",
       "      <td>0.804762</td>\n",
       "      <td>0.766667</td>\n",
       "    </tr>\n",
       "    <tr>\n",
       "      <th>3</th>\n",
       "      <td>model3</td>\n",
       "      <td>robsca_RF</td>\n",
       "      <td>0.804762</td>\n",
       "      <td>0.766667</td>\n",
       "    </tr>\n",
       "    <tr>\n",
       "      <th>4</th>\n",
       "      <td>model4</td>\n",
       "      <td>mm_RF</td>\n",
       "      <td>0.809524</td>\n",
       "      <td>0.750000</td>\n",
       "    </tr>\n",
       "    <tr>\n",
       "      <th>5</th>\n",
       "      <td>model5</td>\n",
       "      <td>Squar_RF</td>\n",
       "      <td>0.804762</td>\n",
       "      <td>0.766667</td>\n",
       "    </tr>\n",
       "    <tr>\n",
       "      <th>6</th>\n",
       "      <td>model6</td>\n",
       "      <td>SR_RF</td>\n",
       "      <td>0.807143</td>\n",
       "      <td>0.750000</td>\n",
       "    </tr>\n",
       "  </tbody>\n",
       "</table>\n",
       "</div>"
      ],
      "text/plain": [
       "  model_no Model Name  Train_Score  Test_score\n",
       "0    model  Normal_RF     1.000000    0.655556\n",
       "1   model1    Best_RF     0.804762    0.766667\n",
       "2   model2     Std_RF     0.804762    0.766667\n",
       "3   model3  robsca_RF     0.804762    0.766667\n",
       "4   model4      mm_RF     0.809524    0.750000\n",
       "5   model5   Squar_RF     0.804762    0.766667\n",
       "6   model6      SR_RF     0.807143    0.750000"
      ]
     },
     "execution_count": 113,
     "metadata": {},
     "output_type": "execute_result"
    }
   ],
   "source": [
    "pd.DataFrame(table)"
   ]
  },
  {
   "cell_type": "markdown",
   "id": "8ede42a1",
   "metadata": {},
   "source": [
    "# Insights:-\n",
    "1) We got best score (0.77) from model1,model2,model3,model5.\n",
    "\n",
    "2) We will go with model1 which is RF model applied on data without any tranformation."
   ]
  },
  {
   "cell_type": "code",
   "execution_count": null,
   "id": "40036ffd",
   "metadata": {},
   "outputs": [],
   "source": []
  }
 ],
 "metadata": {
  "kernelspec": {
   "display_name": "Python 3 (ipykernel)",
   "language": "python",
   "name": "python3"
  },
  "language_info": {
   "codemirror_mode": {
    "name": "ipython",
    "version": 3
   },
   "file_extension": ".py",
   "mimetype": "text/x-python",
   "name": "python",
   "nbconvert_exporter": "python",
   "pygments_lexer": "ipython3",
   "version": "3.9.13"
  }
 },
 "nbformat": 4,
 "nbformat_minor": 5
}
